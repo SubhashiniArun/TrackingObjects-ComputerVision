{
 "cells": [
  {
   "cell_type": "markdown",
   "metadata": {},
   "source": [
    "# Optical Flow with Convolution Neural Networks"
   ]
  },
  {
   "cell_type": "markdown",
   "metadata": {},
   "source": [
    "The paper's version of optical flow produces a vector <-x, +x, -y, +y, -z, +z>.\n",
    "Our result vector needs to change in track_object(frame1, frame2, x, y, w, h, steps) - currently the displacement should be `[x,y]`, so we'll just need to do some conditional wizardry and expand it out."
   ]
  },
  {
   "cell_type": "markdown",
   "metadata": {},
   "source": [
    "*NOTE:* Prior to running any of this, a virtual environment is needed. Once in the venv, run `pip install -r requirements.txt` to prepare all of the required libraries."
   ]
  },
  {
   "cell_type": "code",
   "execution_count": 11,
   "metadata": {},
   "outputs": [
    {
     "data": {
      "text/plain": [
       "array([2, 0, 0, 3, 0, 0])"
      ]
     },
     "execution_count": 11,
     "metadata": {},
     "output_type": "execute_result"
    }
   ],
   "source": [
    "import numpy as np\n",
    "flow = np.array([-2,3])\n",
    "final_flow = np.array([0, 0, 0, 0, 0, 0])\n",
    "\n",
    "if flow[0] < 0:\n",
    "    final_flow[0] = abs(flow[0])\n",
    "elif flow[0] > 0:\n",
    "    final_flow[1] = abs(flow[0])\n",
    "\n",
    "if flow[1] < 0:\n",
    "    final_flow[2] = abs(flow[1])\n",
    "elif flow[1] > 0:\n",
    "    final_flow[3] = abs(flow[1])\n",
    "final_flow"
   ]
  },
  {
   "cell_type": "markdown",
   "metadata": {},
   "source": [
    "The videos used are all releaseed under the Creative Commons Attribution 3.0 license.\n",
    "We can generate the list of all files in the training directory (in this case, a scene from \"Big Buck Bunny\") as follows:"
   ]
  },
  {
   "cell_type": "code",
   "execution_count": 12,
   "metadata": {},
   "outputs": [],
   "source": [
    "import os\n",
    "file_list = os.listdir(\"bunny\")"
   ]
  },
  {
   "cell_type": "markdown",
   "metadata": {},
   "source": [
    "We'll need to add the directory name to the beginning of each file:"
   ]
  },
  {
   "cell_type": "code",
   "execution_count": 13,
   "metadata": {},
   "outputs": [],
   "source": [
    "for x in range(len(file_list)):\n",
    "    file_list[x] = 'bunny/' + file_list[x]"
   ]
  },
  {
   "cell_type": "markdown",
   "metadata": {},
   "source": [
    "First off, let's look at a couple of optical flow examples."
   ]
  },
  {
   "cell_type": "code",
   "execution_count": 14,
   "metadata": {},
   "outputs": [
    {
     "data": {
      "text/plain": [
       "[0, 0.14430177, 0, 0.03125444, 0, 0]"
      ]
     },
     "execution_count": 14,
     "metadata": {},
     "output_type": "execute_result"
    }
   ],
   "source": [
    "from optical_flow import run_lk\n",
    "\n",
    "flow_vector = run_lk(file_list[0], file_list[1], 124, 158, 254, 233, steps=5)\n",
    "flow_vector"
   ]
  },
  {
   "cell_type": "markdown",
   "metadata": {},
   "source": [
    "We can track the same bounding box's movement in the next frame as well:"
   ]
  },
  {
   "cell_type": "code",
   "execution_count": 15,
   "metadata": {},
   "outputs": [
    {
     "data": {
      "text/plain": [
       "[0, 0.11882825, 0, 0.48146176, 0, 0]"
      ]
     },
     "execution_count": 15,
     "metadata": {},
     "output_type": "execute_result"
    }
   ],
   "source": [
    "flow_vector = run_lk(file_list[1], file_list[2], 124-flow_vector[0]+flow_vector[1],\n",
    "                                                 158-flow_vector[2]+flow_vector[3],\n",
    "                                                 254, 233, steps=5)\n",
    "flow_vector"
   ]
  },
  {
   "cell_type": "markdown",
   "metadata": {},
   "source": [
    "Preparing the dataset will use the `prepare_dataset` function in the `optical_flow.py` file. The signature for this function is:\n",
    "`prepare_dataset(files_list, result_file, x, y, w, h, steps=5)`\n",
    "The bounding box should be determined for the scene, and consists of the x,y,w,h parameters."
   ]
  },
  {
   "cell_type": "code",
   "execution_count": 16,
   "metadata": {},
   "outputs": [],
   "source": [
    "from optical_flow import prepare_dataset\n",
    "prepare_dataset(file_list, \"train-data.csv\", 124, 158, 254, 233, steps=5)"
   ]
  },
  {
   "cell_type": "markdown",
   "metadata": {},
   "source": [
    "To train and evaluate the neural net, we'll use the Lkvf file."
   ]
  },
  {
   "cell_type": "code",
   "execution_count": 17,
   "metadata": {},
   "outputs": [
    {
     "name": "stdout",
     "output_type": "stream",
     "text": [
      "Epoch 1/100\n",
      "149/149 [==============================] - 0s 3ms/step - loss: 0.6998 - accuracy: 0.3546\n",
      "Epoch 2/100\n",
      "149/149 [==============================] - 0s 725us/step - loss: 0.6904 - accuracy: 0.5794\n",
      "Epoch 3/100\n",
      "149/149 [==============================] - 0s 726us/step - loss: 0.6845 - accuracy: 0.6969\n",
      "Epoch 4/100\n",
      "149/149 [==============================] - 0s 682us/step - loss: 0.6797 - accuracy: 0.7662\n",
      "Epoch 5/100\n",
      "149/149 [==============================] - 0s 623us/step - loss: 0.6757 - accuracy: 0.7897\n",
      "Epoch 6/100\n",
      "149/149 [==============================] - 0s 734us/step - loss: 0.6717 - accuracy: 0.8121\n",
      "Epoch 7/100\n",
      "149/149 [==============================] - 0s 707us/step - loss: 0.6699 - accuracy: 0.8400\n",
      "Epoch 8/100\n",
      "149/149 [==============================] - 0s 669us/step - loss: 0.6643 - accuracy: 0.8244\n",
      "Epoch 9/100\n",
      "149/149 [==============================] - 0s 644us/step - loss: 0.6608 - accuracy: 0.8333\n",
      "Epoch 10/100\n",
      "149/149 [==============================] - 0s 676us/step - loss: 0.6581 - accuracy: 0.8356\n",
      "Epoch 11/100\n",
      "149/149 [==============================] - 0s 655us/step - loss: 0.6530 - accuracy: 0.8479\n",
      "Epoch 12/100\n",
      "149/149 [==============================] - 0s 692us/step - loss: 0.6508 - accuracy: 0.8557\n",
      "Epoch 13/100\n",
      "149/149 [==============================] - 0s 668us/step - loss: 0.6476 - accuracy: 0.8468\n",
      "Epoch 14/100\n",
      "149/149 [==============================] - 0s 628us/step - loss: 0.6440 - accuracy: 0.8468\n",
      "Epoch 15/100\n",
      "149/149 [==============================] - 0s 591us/step - loss: 0.6406 - accuracy: 0.8658\n",
      "Epoch 16/100\n",
      "149/149 [==============================] - 0s 673us/step - loss: 0.6357 - accuracy: 0.8512\n",
      "Epoch 17/100\n",
      "149/149 [==============================] - 0s 744us/step - loss: 0.6320 - accuracy: 0.8602\n",
      "Epoch 18/100\n",
      "149/149 [==============================] - 0s 671us/step - loss: 0.6294 - accuracy: 0.8624\n",
      "Epoch 19/100\n",
      "149/149 [==============================] - 0s 628us/step - loss: 0.6256 - accuracy: 0.8658\n",
      "Epoch 20/100\n",
      "149/149 [==============================] - 0s 810us/step - loss: 0.6197 - accuracy: 0.8758\n",
      "Epoch 21/100\n",
      "149/149 [==============================] - 0s 839us/step - loss: 0.6206 - accuracy: 0.8691\n",
      "Epoch 22/100\n",
      "149/149 [==============================] - 0s 665us/step - loss: 0.6160 - accuracy: 0.8658\n",
      "Epoch 23/100\n",
      "149/149 [==============================] - 0s 645us/step - loss: 0.6078 - accuracy: 0.8714\n",
      "Epoch 24/100\n",
      "149/149 [==============================] - 0s 721us/step - loss: 0.6039 - accuracy: 0.8714\n",
      "Epoch 25/100\n",
      "149/149 [==============================] - 0s 634us/step - loss: 0.6050 - accuracy: 0.8859\n",
      "Epoch 26/100\n",
      "149/149 [==============================] - 0s 791us/step - loss: 0.6003 - accuracy: 0.8770\n",
      "Epoch 27/100\n",
      "149/149 [==============================] - 0s 631us/step - loss: 0.5952 - accuracy: 0.8758\n",
      "Epoch 28/100\n",
      "149/149 [==============================] - 0s 700us/step - loss: 0.5872 - accuracy: 0.8758\n",
      "Epoch 29/100\n",
      "149/149 [==============================] - 0s 751us/step - loss: 0.5873 - accuracy: 0.8725\n",
      "Epoch 30/100\n",
      "149/149 [==============================] - 0s 707us/step - loss: 0.5810 - accuracy: 0.8647\n",
      "Epoch 31/100\n",
      "149/149 [==============================] - 0s 819us/step - loss: 0.5800 - accuracy: 0.8826\n",
      "Epoch 32/100\n",
      "149/149 [==============================] - 0s 619us/step - loss: 0.5733 - accuracy: 0.8624\n",
      "Epoch 33/100\n",
      "149/149 [==============================] - 0s 713us/step - loss: 0.5714 - accuracy: 0.8826\n",
      "Epoch 34/100\n",
      "149/149 [==============================] - 0s 622us/step - loss: 0.5659 - accuracy: 0.8758\n",
      "Epoch 35/100\n",
      "149/149 [==============================] - 0s 718us/step - loss: 0.5599 - accuracy: 0.8770\n",
      "Epoch 36/100\n",
      "149/149 [==============================] - 0s 653us/step - loss: 0.5575 - accuracy: 0.8848\n",
      "Epoch 37/100\n",
      "149/149 [==============================] - 0s 623us/step - loss: 0.5559 - accuracy: 0.8848\n",
      "Epoch 38/100\n",
      "149/149 [==============================] - 0s 707us/step - loss: 0.5460 - accuracy: 0.8770\n",
      "Epoch 39/100\n",
      "149/149 [==============================] - 0s 691us/step - loss: 0.5406 - accuracy: 0.8803\n",
      "Epoch 40/100\n",
      "149/149 [==============================] - 0s 652us/step - loss: 0.5362 - accuracy: 0.8803\n",
      "Epoch 41/100\n",
      "149/149 [==============================] - 0s 668us/step - loss: 0.5254 - accuracy: 0.8792\n",
      "Epoch 42/100\n",
      "149/149 [==============================] - 0s 911us/step - loss: 0.5201 - accuracy: 0.8758\n",
      "Epoch 43/100\n",
      "149/149 [==============================] - 0s 559us/step - loss: 0.5105 - accuracy: 0.8814\n",
      "Epoch 44/100\n",
      "149/149 [==============================] - 0s 641us/step - loss: 0.5005 - accuracy: 0.8859\n",
      "Epoch 45/100\n",
      "149/149 [==============================] - 0s 716us/step - loss: 0.4968 - accuracy: 0.8915\n",
      "Epoch 46/100\n",
      "149/149 [==============================] - 0s 727us/step - loss: 0.4904 - accuracy: 0.8859\n",
      "Epoch 47/100\n",
      "149/149 [==============================] - 0s 744us/step - loss: 0.4768 - accuracy: 0.8971\n",
      "Epoch 48/100\n",
      "149/149 [==============================] - 0s 755us/step - loss: 0.4659 - accuracy: 0.8859\n",
      "Epoch 49/100\n",
      "149/149 [==============================] - 0s 736us/step - loss: 0.4673 - accuracy: 0.9038\n",
      "Epoch 50/100\n",
      "149/149 [==============================] - 0s 691us/step - loss: 0.4547 - accuracy: 0.8993\n",
      "Epoch 51/100\n",
      "149/149 [==============================] - 0s 706us/step - loss: 0.4523 - accuracy: 0.9049\n",
      "Epoch 52/100\n",
      "149/149 [==============================] - 0s 689us/step - loss: 0.4289 - accuracy: 0.9004\n",
      "Epoch 53/100\n",
      "149/149 [==============================] - 0s 685us/step - loss: 0.4354 - accuracy: 0.8982\n",
      "Epoch 54/100\n",
      "149/149 [==============================] - 0s 603us/step - loss: 0.4159 - accuracy: 0.9004\n",
      "Epoch 55/100\n",
      "149/149 [==============================] - 0s 687us/step - loss: 0.4028 - accuracy: 0.9027\n",
      "Epoch 56/100\n",
      "149/149 [==============================] - 0s 709us/step - loss: 0.3828 - accuracy: 0.9116\n",
      "Epoch 57/100\n",
      "149/149 [==============================] - 0s 743us/step - loss: 0.3699 - accuracy: 0.9027\n",
      "Epoch 58/100\n",
      "149/149 [==============================] - 0s 698us/step - loss: 0.3584 - accuracy: 0.9128\n",
      "Epoch 59/100\n",
      "149/149 [==============================] - 0s 685us/step - loss: 0.3594 - accuracy: 0.9016\n",
      "Epoch 60/100\n",
      "149/149 [==============================] - 0s 631us/step - loss: 0.3381 - accuracy: 0.9072\n",
      "Epoch 61/100\n",
      "149/149 [==============================] - 0s 693us/step - loss: 0.3097 - accuracy: 0.9217\n",
      "Epoch 62/100\n",
      "149/149 [==============================] - 0s 626us/step - loss: 0.3006 - accuracy: 0.9183\n",
      "Epoch 63/100\n",
      "149/149 [==============================] - 0s 820us/step - loss: 0.2919 - accuracy: 0.9273\n",
      "Epoch 64/100\n",
      "149/149 [==============================] - 0s 567us/step - loss: 0.2903 - accuracy: 0.9239\n",
      "Epoch 65/100\n",
      "149/149 [==============================] - 0s 664us/step - loss: 0.2581 - accuracy: 0.9273\n",
      "Epoch 66/100\n",
      "149/149 [==============================] - 0s 708us/step - loss: 0.2619 - accuracy: 0.9228\n",
      "Epoch 67/100\n",
      "149/149 [==============================] - 0s 671us/step - loss: 0.2315 - accuracy: 0.9396\n",
      "Epoch 68/100\n",
      "149/149 [==============================] - 0s 771us/step - loss: 0.2512 - accuracy: 0.9295\n",
      "Epoch 69/100\n",
      "149/149 [==============================] - 0s 666us/step - loss: 0.2305 - accuracy: 0.9351\n",
      "Epoch 70/100\n",
      "149/149 [==============================] - 0s 671us/step - loss: 0.2071 - accuracy: 0.9519\n",
      "Epoch 71/100\n",
      "149/149 [==============================] - 0s 631us/step - loss: 0.1865 - accuracy: 0.9609\n",
      "Epoch 72/100\n",
      "149/149 [==============================] - 0s 718us/step - loss: 0.1979 - accuracy: 0.9430\n",
      "Epoch 73/100\n",
      "149/149 [==============================] - 0s 829us/step - loss: 0.1929 - accuracy: 0.9452\n",
      "Epoch 74/100\n",
      "149/149 [==============================] - 0s 658us/step - loss: 0.1574 - accuracy: 0.9631\n",
      "Epoch 75/100\n",
      "149/149 [==============================] - 0s 646us/step - loss: 0.1820 - accuracy: 0.9463\n",
      "Epoch 76/100\n",
      "149/149 [==============================] - 0s 694us/step - loss: 0.1412 - accuracy: 0.9586\n",
      "Epoch 77/100\n",
      "149/149 [==============================] - 0s 717us/step - loss: 0.1316 - accuracy: 0.9653\n",
      "Epoch 78/100\n",
      "149/149 [==============================] - 0s 726us/step - loss: 0.1219 - accuracy: 0.9664\n",
      "Epoch 79/100\n"
     ]
    },
    {
     "name": "stdout",
     "output_type": "stream",
     "text": [
      "149/149 [==============================] - 0s 704us/step - loss: 0.1278 - accuracy: 0.9631\n",
      "Epoch 80/100\n",
      "149/149 [==============================] - 0s 724us/step - loss: 0.1309 - accuracy: 0.9597\n",
      "Epoch 81/100\n",
      "149/149 [==============================] - 0s 720us/step - loss: 0.1371 - accuracy: 0.9519\n",
      "Epoch 82/100\n",
      "149/149 [==============================] - 0s 674us/step - loss: 0.1230 - accuracy: 0.9620\n",
      "Epoch 83/100\n",
      "149/149 [==============================] - 0s 726us/step - loss: 0.1246 - accuracy: 0.9664\n",
      "Epoch 84/100\n",
      "149/149 [==============================] - 0s 861us/step - loss: 0.1218 - accuracy: 0.9575\n",
      "Epoch 85/100\n",
      "149/149 [==============================] - 0s 634us/step - loss: 0.1150 - accuracy: 0.9575\n",
      "Epoch 86/100\n",
      "149/149 [==============================] - 0s 752us/step - loss: 0.1037 - accuracy: 0.9664\n",
      "Epoch 87/100\n",
      "149/149 [==============================] - 0s 633us/step - loss: 0.0792 - accuracy: 0.9765\n",
      "Epoch 88/100\n",
      "149/149 [==============================] - 0s 747us/step - loss: 0.0781 - accuracy: 0.9799\n",
      "Epoch 89/100\n",
      "149/149 [==============================] - 0s 645us/step - loss: 0.0992 - accuracy: 0.9664\n",
      "Epoch 90/100\n",
      "149/149 [==============================] - 0s 625us/step - loss: 0.0827 - accuracy: 0.9720\n",
      "Epoch 91/100\n",
      "149/149 [==============================] - 0s 659us/step - loss: 0.0843 - accuracy: 0.9653\n",
      "Epoch 92/100\n",
      "149/149 [==============================] - 0s 753us/step - loss: 0.0893 - accuracy: 0.9642\n",
      "Epoch 93/100\n",
      "149/149 [==============================] - 0s 695us/step - loss: 0.0764 - accuracy: 0.9732\n",
      "Epoch 94/100\n",
      "149/149 [==============================] - 0s 849us/step - loss: 0.0881 - accuracy: 0.9687\n",
      "Epoch 95/100\n",
      "149/149 [==============================] - 0s 947us/step - loss: 0.0793 - accuracy: 0.9743\n",
      "Epoch 96/100\n",
      "149/149 [==============================] - 0s 646us/step - loss: 0.0827 - accuracy: 0.9653\n",
      "Epoch 97/100\n",
      "149/149 [==============================] - 0s 793us/step - loss: 0.0788 - accuracy: 0.9720\n",
      "Epoch 98/100\n",
      "149/149 [==============================] - 0s 718us/step - loss: 0.0626 - accuracy: 0.9832\n",
      "Epoch 99/100\n",
      "149/149 [==============================] - 0s 613us/step - loss: 0.0787 - accuracy: 0.9687\n",
      "Epoch 100/100\n",
      "149/149 [==============================] - 0s 701us/step - loss: 0.0790 - accuracy: 0.9687\n",
      "149/149 [==============================] - 0s 1000us/step\n",
      "50/50 [==============================] - 0s 533us/step\n"
     ]
    }
   ],
   "source": [
    "from Lkvf import train\n",
    "history = train()"
   ]
  },
  {
   "cell_type": "markdown",
   "metadata": {},
   "source": [
    "Once we're trained up, we can check some visualizing through matplotlib to get an idea of our accuracy. This can be seen to approach very close to 100% accuracy, and finishes the training and evaluating loop with less than 1% loss."
   ]
  },
  {
   "cell_type": "code",
   "execution_count": 18,
   "metadata": {},
   "outputs": [
    {
     "data": {
      "image/png": "[encoded data removed]",
      "text/plain": [
       "<Figure size 432x288 with 1 Axes>"
      ]
     },
     "metadata": {
      "needs_background": "light"
     },
     "output_type": "display_data"
    }
   ],
   "source": [
    "from matplotlib import pyplot as plt\n",
    "\n",
    "\n",
    "plt.plot(history.history['accuracy'])\n",
    "plt.title('model accuracy')\n",
    "plt.ylabel('accuracy')\n",
    "plt.xlabel('epoch')\n",
    "plt.show()"
   ]
  },
  {
   "cell_type": "markdown",
   "metadata": {},
   "source": [
    "And the loss factor in the model:"
   ]
  },
  {
   "cell_type": "code",
   "execution_count": 19,
   "metadata": {},
   "outputs": [
    {
     "data": {
      "image/png": "[encoded data removed]",
      "text/plain": [
       "<Figure size 432x288 with 1 Axes>"
      ]
     },
     "metadata": {
      "needs_background": "light"
     },
     "output_type": "display_data"
    }
   ],
   "source": [
    "plt.plot(history.history['loss'])\n",
    "plt.title('model loss')\n",
    "plt.ylabel('loss')\n",
    "plt.xlabel('epoch')\n",
    "plt.show()"
   ]
  },
  {
   "cell_type": "markdown",
   "metadata": {},
   "source": [
    "Running the new neural network on the correct bounding box for the first two frames gives the following results:"
   ]
  },
  {
   "cell_type": "code",
   "execution_count": 20,
   "metadata": {},
   "outputs": [
    {
     "name": "stdout",
     "output_type": "stream",
     "text": [
      "Loaded model from disk\n",
      "[[0.02872337 0.0200383  0.04930682 0.06072028 0.02950257 0.03036932]]\n",
      "[-0.008685067, 0.011413459, 0.00086675026]\n"
     ]
    },
    {
     "data": {
      "text/plain": [
       "[-0.008685067, 0.011413459, 0.00086675026]"
      ]
     },
     "execution_count": 20,
     "metadata": {},
     "output_type": "execute_result"
    }
   ],
   "source": [
    "import imageio\n",
    "from RunLKNN import LK, loadNN\n",
    "\n",
    "x,y,w,h = 124, 158, 254, 233\n",
    "\n",
    "first_frame = file_list[0]\n",
    "second_frame = file_list[1]\n",
    "\n",
    "LK((imageio.imread(first_frame)[\n",
    "            :, :, :3].astype(np.float32) / 255.0)[y:y+h, x:x+w], (imageio.imread(second_frame)[\n",
    "            :, :, :3].astype(np.float32) / 255.0)[y:y+h, x:x+w], loadNN('model.yaml', 'model.h5'))"
   ]
  },
  {
   "cell_type": "code",
   "execution_count": null,
   "metadata": {},
   "outputs": [],
   "source": []
  }
 ],
 "metadata": {
  "kernelspec": {
   "display_name": "Python 3",
   "language": "python",
   "name": "python3"
  },
  "language_info": {
   "codemirror_mode": {
    "name": "ipython",
    "version": 3
   },
   "file_extension": ".py",
   "mimetype": "text/x-python",
   "name": "python",
   "nbconvert_exporter": "python",
   "pygments_lexer": "ipython3",
   "version": "3.7.0"
  }
 },
 "nbformat": 4,
 "nbformat_minor": 4
}
